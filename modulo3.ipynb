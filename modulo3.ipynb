{
 "cells": [
  {
   "cell_type": "markdown",
   "metadata": {},
   "source": [
    "Modulo 3\n"
   ]
  },
  {
   "cell_type": "markdown",
   "metadata": {},
   "source": [
    "Primer Programa "
   ]
  },
  {
   "cell_type": "code",
   "execution_count": 3,
   "metadata": {},
   "outputs": [
    {
     "name": "stdout",
     "output_type": "stream",
     "text": [
      "Oye se acerca un asteroide ten cuidado\n"
     ]
    }
   ],
   "source": [
    "a = 49  \n",
    "if a > 25:\n",
    "    print('Oye se acerca un asteroide ten cuidado')\n",
    "else:\n",
    "    print('Falsa alarma')"
   ]
  },
  {
   "cell_type": "markdown",
   "metadata": {},
   "source": [
    "Segundo Programa\n"
   ]
  },
  {
   "cell_type": "code",
   "execution_count": 4,
   "metadata": {},
   "outputs": [
    {
     "name": "stdout",
     "output_type": "stream",
     "text": [
      "No se puede ver el rayo de luz\n"
     ]
    }
   ],
   "source": [
    "a = 19\n",
    "if a >= 20:\n",
    "    print('Se puede ver el rayo de luz')\n",
    "elif a == 20:\n",
    "    print('Se puede ver el rayo de luz')\n",
    "else:\n",
    "    print('No se puede ver el rayo de luz')\n"
   ]
  },
  {
   "cell_type": "markdown",
   "metadata": {},
   "source": [
    "Tercer Programa\n"
   ]
  },
  {
   "cell_type": "code",
   "execution_count": 14,
   "metadata": {},
   "outputs": [
    {
     "name": "stdout",
     "output_type": "stream",
     "text": [
      "Se acerca un asteroide pesado\n"
     ]
    }
   ],
   "source": [
    "velocidad = 35\n",
    "tamaño = 30\n",
    "if velocidad > 25 and tamaño >= 25:\n",
    "    print('Se acerca un asteroide pesado')\n",
    "elif velocidad >= 20:\n",
    "    print('Rayo de luz')\n",
    "elif tamaño < 25:\n",
    "    print('No hay nada')\n",
    "else:\n",
    "    print('No hay anda')\n"
   ]
  }
 ],
 "metadata": {
  "interpreter": {
   "hash": "bde5aaa55c931a644beefaf9474ce6d19843727efa4c37c9777315ae483b56dd"
  },
  "kernelspec": {
   "display_name": "Python 3.10.1 64-bit",
   "language": "python",
   "name": "python3"
  },
  "language_info": {
   "codemirror_mode": {
    "name": "ipython",
    "version": 3
   },
   "file_extension": ".py",
   "mimetype": "text/x-python",
   "name": "python",
   "nbconvert_exporter": "python",
   "pygments_lexer": "ipython3",
   "version": "3.10.1"
  },
  "orig_nbformat": 4
 },
 "nbformat": 4,
 "nbformat_minor": 2
}

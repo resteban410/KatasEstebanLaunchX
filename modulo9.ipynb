{
 "cells": [
  {
   "cell_type": "markdown",
   "metadata": {},
   "source": [
    "Modulo 9"
   ]
  },
  {
   "cell_type": "markdown",
   "metadata": {},
   "source": [
    "Primer Ejercicio "
   ]
  },
  {
   "cell_type": "code",
   "execution_count": 24,
   "metadata": {},
   "outputs": [],
   "source": [
    "def generate_report(tanque_principal, tanque_secundario, tanque_reserva):\n",
    "    total_average = (tanque_principal + tanque_secundario + tanque_reserva) / 3\n",
    "    return f\"\"\"Informe de combustible:\n",
    "    Promedio Total: {total_average}%\n",
    "    Tanque principal: {tanque_principal}%\n",
    "    Tanque secundario: {tanque_secundario}%\n",
    "    Tanque de reserva: {tanque_reserva}% \n",
    "    \"\"\"\n",
    "\n",
    "   "
   ]
  },
  {
   "cell_type": "code",
   "execution_count": 25,
   "metadata": {},
   "outputs": [
    {
     "data": {
      "text/plain": [
       "82.0"
      ]
     },
     "execution_count": 25,
     "metadata": {},
     "output_type": "execute_result"
    }
   ],
   "source": [
    "def average(values):\n",
    "    total = sum(values)\n",
    "    numero_de_items = len(values)\n",
    "    return total / numero_de_items\n",
    "average([80, 85, 81]) "
   ]
  },
  {
   "cell_type": "code",
   "execution_count": 26,
   "metadata": {},
   "outputs": [
    {
     "name": "stdout",
     "output_type": "stream",
     "text": [
      "Informe de combustible:\n",
      "    Promedio total: 78.0%\n",
      "    Tanque principal: 88%\n",
      "    Tanque secundario: 76%\n",
      "    Tanque de reserva: 70% \n",
      "    \n"
     ]
    }
   ],
   "source": [
    "def generate_report(tanque_principal, tanque_secundario, tanque_reserva):\n",
    "    return f\"\"\"Informe de combustible:\n",
    "    Promedio total: {average([tanque_principal, tanque_secundario, tanque_reserva])}%\n",
    "    Tanque principal: {tanque_principal}%\n",
    "    Tanque secundario: {tanque_secundario}%\n",
    "    Tanque de reserva: {tanque_reserva}% \n",
    "    \"\"\"\n",
    "\n",
    "print(generate_report(88, 76, 70))"
   ]
  },
  {
   "cell_type": "markdown",
   "metadata": {},
   "source": [
    "Segundo ejercicio\n"
   ]
  },
  {
   "cell_type": "code",
   "execution_count": 27,
   "metadata": {},
   "outputs": [
    {
     "name": "stdout",
     "output_type": "stream",
     "text": [
      "\n",
      "    Mision Luna\n",
      "    Tiempo total: 65\n",
      "    Combustible restante: 500000\n",
      "    \n"
     ]
    }
   ],
   "source": [
    "def mission_report(pre_launch_time, flight_time, destino, tanque_secundario, tanque_principal):\n",
    "    return f\"\"\"\n",
    "    Mision {destino}\n",
    "    Tiempo total: {pre_launch_time + flight_time}\n",
    "    Combustible restante: {tanque_secundario + tanque_principal}\n",
    "    \"\"\"\n",
    "\n",
    "print(mission_report(14, 51, \"Luna\", 200000, 300000))"
   ]
  },
  {
   "cell_type": "code",
   "execution_count": 28,
   "metadata": {},
   "outputs": [
    {
     "name": "stdout",
     "output_type": "stream",
     "text": [
      "\n",
      "    Mision Luna\n",
      "    Tiempo total: 76\n",
      "    Combustible restante: 500000\n",
      "    \n"
     ]
    }
   ],
   "source": [
    "def mission_report(destino, *minutes, **deposito):\n",
    "    return f\"\"\"\n",
    "    Mision {destino}\n",
    "    Tiempo total: {sum(minutes)}\n",
    "    Combustible restante: {sum(deposito.values())}\n",
    "    \"\"\"\n",
    "\n",
    "print(mission_report(\"Luna\", 10, 15, 51, Primario=300000, Externo=200000))"
   ]
  },
  {
   "cell_type": "code",
   "execution_count": 30,
   "metadata": {},
   "outputs": [
    {
     "name": "stdout",
     "output_type": "stream",
     "text": [
      "\n",
      "    Misión Luna\n",
      "    Tiempo total: 74\n",
      "    Combustible restante: 500000\n",
      "    Primario 300000 Restante\n",
      "Externo 200000 Restante\n",
      "\n"
     ]
    }
   ],
   "source": [
    "def mission_report(destino, *minutes, **deposito):\n",
    "    primer_informe = f\"\"\"\n",
    "    Misión {destino}\n",
    "    Tiempo total: {sum(minutes)}\n",
    "    Combustible restante: {sum(deposito.values())}\n",
    "    \"\"\"\n",
    "    for tanque_primario, galones in deposito.items():\n",
    "        primer_informe += f\"{tanque_primario} {galones} Restante\\n\"\n",
    "    return primer_informe\n",
    "\n",
    "print(mission_report(\"Luna\", 8, 11, 55, Primario=300000, Externo=200000))"
   ]
  }
 ],
 "metadata": {
  "interpreter": {
   "hash": "bde5aaa55c931a644beefaf9474ce6d19843727efa4c37c9777315ae483b56dd"
  },
  "kernelspec": {
   "display_name": "Python 3.10.1 64-bit",
   "language": "python",
   "name": "python3"
  },
  "language_info": {
   "codemirror_mode": {
    "name": "ipython",
    "version": 3
   },
   "file_extension": ".py",
   "mimetype": "text/x-python",
   "name": "python",
   "nbconvert_exporter": "python",
   "pygments_lexer": "ipython3",
   "version": "3.10.1"
  },
  "orig_nbformat": 4
 },
 "nbformat": 4,
 "nbformat_minor": 2
}

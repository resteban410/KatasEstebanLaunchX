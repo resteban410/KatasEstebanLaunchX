{
 "cells": [
  {
   "cell_type": "markdown",
   "metadata": {},
   "source": [
    "Modulo 5"
   ]
  },
  {
   "cell_type": "markdown",
   "metadata": {},
   "source": [
    "Primer problema\n"
   ]
  },
  {
   "cell_type": "code",
   "execution_count": 1,
   "metadata": {},
   "outputs": [],
   "source": [
    "distanciaUno = 149597870\n",
    "distanciaDos = 149597870\n"
   ]
  },
  {
   "cell_type": "code",
   "execution_count": 11,
   "metadata": {},
   "outputs": [
    {
     "name": "stdout",
     "output_type": "stream",
     "text": [
      "628949330\n",
      "390577533.93\n"
     ]
    }
   ],
   "source": [
    "distaciaKilometros = distanciaDos - distanciaUno\n",
    "print(distaciaKilometros)\n",
    "\n",
    "distanciaMillas = distaciaKilometros * 0.621\n",
    "print(distanciaMillas)"
   ]
  },
  {
   "cell_type": "markdown",
   "metadata": {},
   "source": [
    "Segundo programa"
   ]
  },
  {
   "cell_type": "code",
   "execution_count": 13,
   "metadata": {},
   "outputs": [
    {
     "name": "stdout",
     "output_type": "stream",
     "text": [
      "0\n",
      "390577533.93\n"
     ]
    }
   ],
   "source": [
    "distanciaUno = input('Introduce la distancia del planeta')\n",
    "distanciaDos = input('Introduce la distancia desde el sol')\n",
    "\n",
    "distanciaUno = int(distanciaUno)\n",
    "distanciaDos = int(distanciaDos)\n",
    "\n",
    "distanciaKilometros = distanciaDos - distanciaUno\n",
    "print(distanciaKilometros)\n",
    "\n",
    "\n",
    "distanciaMillas = distaciaKilometros * 0.621\n",
    "print(abs(distanciaMillas))"
   ]
  }
 ],
 "metadata": {
  "interpreter": {
   "hash": "bde5aaa55c931a644beefaf9474ce6d19843727efa4c37c9777315ae483b56dd"
  },
  "kernelspec": {
   "display_name": "Python 3.10.1 64-bit",
   "language": "python",
   "name": "python3"
  },
  "language_info": {
   "codemirror_mode": {
    "name": "ipython",
    "version": 3
   },
   "file_extension": ".py",
   "mimetype": "text/x-python",
   "name": "python",
   "nbconvert_exporter": "python",
   "pygments_lexer": "ipython3",
   "version": "3.10.1"
  },
  "orig_nbformat": 4
 },
 "nbformat": 4,
 "nbformat_minor": 2
}
